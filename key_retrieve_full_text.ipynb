{
 "cells": [
  {
   "cell_type": "code",
   "execution_count": null,
   "metadata": {},
   "outputs": [],
   "source": [
    "import time\n",
    "\n",
    "import warnings\n",
    "warnings.filterwarnings(\"ignore\", category=DeprecationWarning)\n",
    "\n",
    "import pandas as pd\n",
    "from openpyxl import load_workbook\n",
    "\n",
    "import configparser \n",
    "config = configparser.ConfigParser()\n",
    "config.read('config.ini')\n",
    "ip = config['DEFAULT']['IP']\n",
    "port = config['DEFAULT']['MongoDB-Port']\n",
    "\n",
    "from pymongo import MongoClient\n",
    "client = MongoClient(ip, int(port))\n",
    "\n",
    "import twitter"
   ]
  },
  {
   "cell_type": "code",
   "execution_count": null,
   "metadata": {},
   "outputs": [],
   "source": [
    "CK = config['TWITTER']['CK']\n",
    "CS = config['TWITTER']['CS']\n",
    "ATK = config['TWITTER']['ATK']\n",
    "ATS = config['TWITTER']['ATS']\n",
    "Substring = config['TWITTER']['Substring']\n",
    "\n",
    "# set to extended mode and sleep if exceed rate limit\n",
    "api = twitter.Api(consumer_key=CK,\n",
    "                  consumer_secret=CS,\n",
    "                  access_token_key=ATK,\n",
    "                  access_token_secret=ATS,\n",
    "                  tweet_mode= 'extended',\n",
    "                  sleep_on_rate_limit=True)"
   ]
  },
  {
   "cell_type": "code",
   "execution_count": null,
   "metadata": {},
   "outputs": [],
   "source": [
    "db_twitter = client[\"Twitter\"]\n",
    "collections_twitter = db_twitter.collection_names()"
   ]
  },
  {
   "cell_type": "code",
   "execution_count": null,
   "metadata": {},
   "outputs": [],
   "source": [
    "dic_collection = {}\n",
    "for i in collections_twitter:\n",
    "    dic_collection[i] = \"{:,}\".format(db_twitter[i].find({}).count())\n",
    "\n",
    "\n",
    "for key in sorted(dic_collection):\n",
    "    print(\"%s: %s\" % (key, dic_collection[key]))"
   ]
  },
  {
   "cell_type": "code",
   "execution_count": null,
   "metadata": {},
   "outputs": [],
   "source": [
    "for e in sorted(dic_collection)[::4]:\n",
    "    if Substring in e:\n",
    "        print(\"--------------\\n\" + e)\n",
    "        c = 0\n",
    "        # get the first \"limit_number\" records from \"twitter-australia\" collection\n",
    "        for document in db_twitter[e].find({\"truncated\":True,\"soda_checked_truncated_utc\":{\"$exists\":False}}):\n",
    "                c += 1\n",
    "                try:\n",
    "                    # get full_text using twitter api\n",
    "                    full_text = api.GetStatus(document[\"id_str\"]).full_text\n",
    "                    print(str(c) + \"--------------\\n\" + \"got full_text\")\n",
    "                    \n",
    "                    t = int(time.time())\n",
    "                    # update fields(add full_text if exist and change truncated value to false)\n",
    "                    db_twitter[e].update({\"_id\": document[\"_id\"]}, {\"$set\": {\"text\": full_text, \"truncated\":False , \"soda_checked_truncated_utc\": t }})\n",
    "                except:\n",
    "                    \n",
    "                    t = int(time.time())\n",
    "                    db_twitter[e].update({\"_id\": document[\"_id\"]}, {\"$set\": {\"soda_checked_truncated_utc\": t}})\n",
    "                    print(str(c) + \"--------------\\n\" + \"pass except\")\n",
    "\n",
    "        print(\"--------------\\n\" + \"Done: get full_text of \" + str(c) + \" truncated tweets in collection \" + e)\n",
    "    "
   ]
  },
  {
   "cell_type": "code",
   "execution_count": null,
   "metadata": {},
   "outputs": [],
   "source": []
  }
 ],
 "metadata": {
  "kernelspec": {
   "display_name": "Python 3",
   "language": "python",
   "name": "python3"
  },
  "language_info": {
   "codemirror_mode": {
    "name": "ipython",
    "version": 3
   },
   "file_extension": ".py",
   "mimetype": "text/x-python",
   "name": "python",
   "nbconvert_exporter": "python",
   "pygments_lexer": "ipython3",
   "version": "3.6.4"
  }
 },
 "nbformat": 4,
 "nbformat_minor": 2
}
