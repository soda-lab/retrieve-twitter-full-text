{
 "cells": [
  {
   "cell_type": "code",
   "execution_count": 1,
   "metadata": {},
   "outputs": [],
   "source": [
    "import time\n",
    "import datetime\n",
    "import re\n",
    "import csv\n",
    "\n",
    "import warnings\n",
    "warnings.filterwarnings(\"ignore\", category=DeprecationWarning)\n",
    "\n",
    "import pandas as pd\n",
    "from openpyxl import load_workbook\n",
    "\n",
    "import configparser \n",
    "config = configparser.ConfigParser()\n",
    "config.read('config.ini')\n",
    "ip = config['DEFAULT']['IP']\n",
    "port = config['DEFAULT']['MongoDB-Port']\n",
    "\n",
    "from pymongo import MongoClient\n",
    "client = MongoClient(ip, int(port))\n",
    "\n",
    "import twitter"
   ]
  },
  {
   "cell_type": "code",
   "execution_count": 2,
   "metadata": {},
   "outputs": [],
   "source": [
    "#get value from config file\n",
    "CK = config['TWITTER']['CK']\n",
    "CS = config['TWITTER']['CS']\n",
    "ATK = config['TWITTER']['ATK']\n",
    "ATS = config['TWITTER']['ATS']\n",
    "rank = int(config['TWITTER']['Rank'])\n",
    "\n",
    "# set to extended mode and sleep if exceed rate limit\n",
    "api = twitter.Api(consumer_key=CK,\n",
    "                  consumer_secret=CS,\n",
    "                  access_token_key=ATK,\n",
    "                  access_token_secret=ATS,\n",
    "                  tweet_mode= 'extended',\n",
    "                  sleep_on_rate_limit=True)"
   ]
  },
  {
   "cell_type": "code",
   "execution_count": 3,
   "metadata": {},
   "outputs": [],
   "source": [
    "db_twitter = client[\"Twitter\"]\n",
    "collections_twitter = db_twitter.collection_names()"
   ]
  },
  {
   "cell_type": "code",
   "execution_count": 4,
   "metadata": {},
   "outputs": [
    {
     "name": "stdout",
     "output_type": "stream",
     "text": [
      "current year : 2019\n",
      "current week : 11\n"
     ]
    }
   ],
   "source": [
    "# get current year and week\n",
    "current_timestamp = int(time.time() * 1000)\n",
    "current_year = int(datetime.datetime.now().year)\n",
    "print(\"current year : \" + str(current_year))\n",
    "\n",
    "current_week = int((current_timestamp - 1546214400000)/1000/604800)+1\n",
    "print(\"current week : \" + str(current_week))"
   ]
  },
  {
   "cell_type": "code",
   "execution_count": 5,
   "metadata": {},
   "outputs": [
    {
     "name": "stdout",
     "output_type": "stream",
     "text": [
      "2019_W10_Twitter_Australia: 40,767\n",
      "2019_W1_Twitter_Australia: 40,880\n",
      "2019_W2_Twitter_Australia: 37,645\n",
      "2019_W3_Twitter_Australia: 52,348\n",
      "2019_W4_Twitter_Australia: 59,625\n",
      "2019_W5_Twitter_Australia: 61,617\n",
      "2019_W6_Twitter_Australia: 61,435\n",
      "2019_W7_Twitter_Australia: 28,017\n",
      "2019_W8_Twitter_Australia: 60,035\n",
      "2019_W9_Twitter_Australia: 58,316\n"
     ]
    }
   ],
   "source": [
    "dic_collection = {}\n",
    "for i in collections_twitter:\n",
    "    if i.startswith(\"20\") and \"Australia\" in i:\n",
    "        year = i[0:4]\n",
    "        week = re.search('_(.+?)_', i).group(1)[1:]\n",
    "        if int(year) < current_year:\n",
    "            pass\n",
    "            #dic_collection[i] = \"{:,}\".format(db_twitter[i].find({}).count())\n",
    "        else:\n",
    "            try:\n",
    "                if int(week) < current_week:\n",
    "                    dic_collection[i] = \"{:,}\".format(db_twitter[i].find({}).count())\n",
    "            except: pass\n",
    "\n",
    "for key in sorted(dic_collection):\n",
    "    print(\"%s: %s\" % (key, dic_collection[key]))"
   ]
  },
  {
   "cell_type": "code",
   "execution_count": 6,
   "metadata": {},
   "outputs": [
    {
     "name": "stdout",
     "output_type": "stream",
     "text": [
      "keywords: ['#metoo', '#timesup', '#violenceagainstwomen', '#genderequality', '#domesticviolence']\n"
     ]
    }
   ],
   "source": [
    "# read keywords from csv file\n",
    "with open('supporting-files/keywords.csv', 'r') as f:\n",
    "    search_terms = [row[0] for row in csv.reader(f)]\n",
    "print(\"keywords: \" + str(search_terms))"
   ]
  },
  {
   "cell_type": "code",
   "execution_count": null,
   "metadata": {},
   "outputs": [],
   "source": [
    "for e in sorted(dic_collection)[rank::4]:\n",
    "    if \"Australia\" in e:\n",
    "        print(\"--------------\\n\" + e)\n",
    "        c = 0\n",
    "        # get the all records from \"twitter-australia\" collection\n",
    "        for document in db_twitter[e].find({\"truncated\":True,\"soda_checked_truncated_utc\":{\"$exists\":False}},no_cursor_timeout = True):\n",
    "            c += 1\n",
    "            try:\n",
    "                # get full_text using twitter api\n",
    "                full_text = api.GetStatus(document[\"id_str\"]).full_text\n",
    "                print(str(c) + \"--------------\\n\" + \"got full_text\")\n",
    "                \n",
    "                t = int(time.time())\n",
    "                # update fields(add full_text if exist and change truncated value to false)\n",
    "                db_twitter[e].update({\"_id\": document[\"_id\"]}, {\"$set\": {\"text\": full_text, \"truncated\":False , \"soda_checked_truncated_utc\": t }})\n",
    "            except:\n",
    "                \n",
    "                t = int(time.time())\n",
    "                db_twitter[e].update({\"_id\": document[\"_id\"]}, {\"$set\": {\"soda_checked_truncated_utc\": t}})\n",
    "                print(str(c) + \"--------------\\n\" + \"pass except\")\n",
    "                    \n",
    "        print(\"--------------\\n\" + \"Done: get full_text of \" + str(c) + \" truncated tweets in collection \" + e)\n",
    "    elif \"Other\" in e:\n",
    "        print(\"--------------\\n\" + e)\n",
    "        c = 0\n",
    "        for term in search_terms:\n",
    "            for document in db_twitter[e].find({\"$text\": {\"$search\": \"\\\"\" + term + \"\\\"\", \"$caseSensitive\": False},\"truncated\":True,\"soda_checked_truncated_utc\":{\"$exists\":False}},no_cursor_timeout = True):\n",
    "                c+=1\n",
    "                try:\n",
    "                    # get full_text using twitter api\n",
    "                    full_text = api.GetStatus(document[\"id_str\"]).full_text\n",
    "                    print(str(c) + \"--------------\\n\" + \"got full_text\")\n",
    "\n",
    "                    t = int(time.time())\n",
    "                    # update fields(add full_text if exist and change truncated value to false)\n",
    "                    db_twitter[e].update({\"_id\": document[\"_id\"]}, {\"$set\": {\"text\": full_text, \"truncated\":False , \"soda_checked_truncated_utc\": t }})\n",
    "                except:\n",
    "                    t = int(time.time())\n",
    "                    db_twitter[e].update({\"_id\": document[\"_id\"]}, {\"$set\": {\"soda_checked_truncated_utc\": t}})\n",
    "                    print(str(c) + \"--------------\\n\" + \"pass except\")\n",
    "\n",
    "        print(\"--------------\\n\" + \"Done: get full_text of \" + str(c) + \" truncated keyword tweets in collection \" + e)        "
   ]
  },
  {
   "cell_type": "code",
   "execution_count": null,
   "metadata": {},
   "outputs": [],
   "source": []
  }
 ],
 "metadata": {
  "kernelspec": {
   "display_name": "Python 3",
   "language": "python",
   "name": "python3"
  },
  "language_info": {
   "codemirror_mode": {
    "name": "ipython",
    "version": 3
   },
   "file_extension": ".py",
   "mimetype": "text/x-python",
   "name": "python",
   "nbconvert_exporter": "python",
   "pygments_lexer": "ipython3",
   "version": "3.6.4"
  }
 },
 "nbformat": 4,
 "nbformat_minor": 2
}
