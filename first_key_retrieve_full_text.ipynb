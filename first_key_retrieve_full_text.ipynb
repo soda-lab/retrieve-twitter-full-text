{
 "cells": [
  {
   "cell_type": "code",
   "execution_count": 1,
   "metadata": {},
   "outputs": [],
   "source": [
    "import time\n",
    "\n",
    "import warnings\n",
    "warnings.filterwarnings(\"ignore\", category=DeprecationWarning)\n",
    "\n",
    "import pandas as pd\n",
    "from openpyxl import load_workbook\n",
    "\n",
    "import configparser \n",
    "config = configparser.ConfigParser()\n",
    "config.read('config.ini')\n",
    "ip = config['DEFAULT']['IP']\n",
    "port = config['DEFAULT']['MongoDB-Port']\n",
    "\n",
    "from pymongo import MongoClient\n",
    "client = MongoClient(ip, int(port))\n",
    "\n",
    "import twitter"
   ]
  },
  {
   "cell_type": "code",
   "execution_count": 2,
   "metadata": {},
   "outputs": [],
   "source": [
    "CK1 = config['TWITTER']['CK1']\n",
    "CS1 = config['TWITTER']['CS1']\n",
    "ATK1 = config['TWITTER']['ATK1']\n",
    "ATS1 = config['TWITTER']['ATS1']\n",
    "\n",
    "# set to extended mode and sleep if exceed rate limit\n",
    "api1 = twitter.Api(consumer_key=CK1,\n",
    "                  consumer_secret=CS1,\n",
    "                  access_token_key=ATK1,\n",
    "                  access_token_secret=ATS1,\n",
    "                  tweet_mode= 'extended',\n",
    "                  sleep_on_rate_limit=True)"
   ]
  },
  {
   "cell_type": "code",
   "execution_count": 3,
   "metadata": {},
   "outputs": [],
   "source": [
    "db_twitter = client[\"Twitter\"]\n",
    "collections_twitter = db_twitter.collection_names()"
   ]
  },
  {
   "cell_type": "code",
   "execution_count": 4,
   "metadata": {},
   "outputs": [
    {
     "name": "stdout",
     "output_type": "stream",
     "text": [
      "2018_W51_Twitter_Australia: 20,471\n",
      "2018_W51_Twitter_Other: 8,978,243\n",
      "2018_W52_Twitter_Australia: 38,065\n",
      "2018_W52_Twitter_Other: 16,940,708\n",
      "2019_W10_Twitter_Australia: 3,174\n",
      "2019_W10_Twitter_Other: 876,985\n",
      "2019_W1_Twitter_Australia: 40,880\n",
      "2019_W1_Twitter_Other: 16,994,959\n",
      "2019_W2_Twitter_Australia: 37,645\n",
      "2019_W2_Twitter_Other: 14,474,627\n",
      "2019_W3_Twitter_Australia: 52,348\n",
      "2019_W4_Twitter_Australia: 59,625\n",
      "2019_W5_Twitter_Australia: 61,617\n",
      "2019_W6_Twitter_Australia: 61,435\n",
      "2019_W7_Twitter_Australia: 28,017\n",
      "2019_W8_Twitter_Australia: 60,035\n",
      "2019_W8_Twitter_Other_Old: 31,057\n",
      "2019_W9_Twitter_Australia: 58,316\n",
      "2019_W9_Twitter_Other: 22,293,795\n",
      "2019_W_Twitter_Other: 4\n",
      "twitter-other: 201,459,531\n",
      "twitter-richard-2014: 211,755\n",
      "twitter-richard-2015: 198,258\n",
      "twitter-richard-2016: 10,801\n",
      "twitter-richard-2017: 21,797,263\n",
      "twitter-richard-2018: 10,679,787\n"
     ]
    }
   ],
   "source": [
    "dic_collection = {}\n",
    "for i in collections_twitter:\n",
    "    dic_collection[i] = \"{:,}\".format(db_twitter[i].find({}).count())\n",
    "\n",
    "\n",
    "for key in sorted(dic_collection):\n",
    "    print(\"%s: %s\" % (key, dic_collection[key]))"
   ]
  },
  {
   "cell_type": "code",
   "execution_count": null,
   "metadata": {},
   "outputs": [],
   "source": [
    "for e in sorted(dic_collection)[::4]:\n",
    "    if \"Australia\" in e:\n",
    "        print(\"--------------\\n\" + e)\n",
    "        c = 0\n",
    "        # get the first \"limit_number\" records from \"twitter-australia\" collection\n",
    "        for document in db_twitter[e].find({\"truncated\":True,\"soda_checked_truncated_utc\":{\"$exists\":False}}):\n",
    "                c += 1\n",
    "                try:\n",
    "                    # get full_text using twitter api\n",
    "                    full_text = api1.GetStatus(document[\"id_str\"]).full_text\n",
    "                    print(str(c) + \"--------------\\n\" + \"got full_text\")\n",
    "                    \n",
    "                    t = int(time.time())\n",
    "                    # update fields(add full_text if exist and change truncated value to false)\n",
    "                    db_twitter[e].update({\"_id\": document[\"_id\"]}, {\"$set\": {\"text\": full_text, \"truncated\":False , \"soda_checked_truncated_utc\": t }})\n",
    "                except:\n",
    "                    \n",
    "                    t = int(time.time())\n",
    "                    db_twitter[e].update({\"_id\": document[\"_id\"]}, {\"$set\": {\"soda_checked_truncated_utc\": t}})\n",
    "                    print(str(c) + \"--------------\\n\" + \"pass except\")\n",
    "\n",
    "        print(\"--------------\\n\" + \"Done: get full_text of \" + str(c) + \" truncated tweets in collection \" + e)\n",
    "    "
   ]
  },
  {
   "cell_type": "code",
   "execution_count": null,
   "metadata": {},
   "outputs": [],
   "source": []
  }
 ],
 "metadata": {
  "kernelspec": {
   "display_name": "Python 3",
   "language": "python",
   "name": "python3"
  },
  "language_info": {
   "codemirror_mode": {
    "name": "ipython",
    "version": 3
   },
   "file_extension": ".py",
   "mimetype": "text/x-python",
   "name": "python",
   "nbconvert_exporter": "python",
   "pygments_lexer": "ipython3",
   "version": "3.6.4"
  }
 },
 "nbformat": 4,
 "nbformat_minor": 2
}
