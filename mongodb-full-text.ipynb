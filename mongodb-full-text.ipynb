{
 "cells": [
  {
   "cell_type": "code",
   "execution_count": null,
   "metadata": {},
   "outputs": [],
   "source": [
    "import warnings\n",
    "warnings.filterwarnings(\"ignore\", category=DeprecationWarning)\n",
    "\n",
    "import pandas as pd\n",
    "from openpyxl import load_workbook\n",
    "\n",
    "import configparser \n",
    "config = configparser.ConfigParser()\n",
    "config.read('config.ini')\n",
    "ip = config['DEFAULT']['IP']\n",
    "port = config['DEFAULT']['MongoDB-Port']\n",
    "\n",
    "from pymongo import MongoClient\n",
    "client = MongoClient(ip, int(port))\n",
    "\n",
    "import twitter\n",
    "\n",
    "consumer_key = config['TWITTER']['CK']\n",
    "consumer_secret = config['TWITTER']['CS']\n",
    "access_token_key = config['TWITTER']['ATK']\n",
    "access_token_secret = config['TWITTER']['ATS']\n",
    "\n",
    "# set to extended mode and sleep if exceed rate limit\n",
    "api = twitter.Api(consumer_key=consumer_key,\n",
    "                  consumer_secret=consumer_secret,\n",
    "                  access_token_key=access_token_key,\n",
    "                  access_token_secret=access_token_secret,\n",
    "                  tweet_mode= 'extended',\n",
    "                  sleep_on_rate_limit=True)"
   ]
  },
  {
   "cell_type": "code",
   "execution_count": null,
   "metadata": {},
   "outputs": [],
   "source": [
    "db_twitter = client[\"Twitter\"]"
   ]
  },
  {
   "cell_type": "markdown",
   "metadata": {},
   "source": [
    "# Get full_text of the truncated tweets in twitter-australia collection"
   ]
  },
  {
   "cell_type": "code",
   "execution_count": null,
   "metadata": {},
   "outputs": [],
   "source": [
    "# get number to limit the records from mongodb\n",
    "limit_number = int(config['TWITTER']['Number-Truncated-Tweets'])\n",
    "\n",
    "# get the first \"limit_number\" records from \"twitter-australia\" collection\n",
    "for document in db_twitter[\"twitter-test\"].find({\"truncated\":True}).limit(limit_number):\n",
    "        try:\n",
    "            # get full_text using twitter api\n",
    "            full_text = api.GetStatus(document[\"id_str\"]).full_text\n",
    "            #print(\"--------------\\n\" + full_text)\n",
    "\n",
    "            # update fields(add full_text if exist and change truncated value to false)\n",
    "            db_twitter[\"twitter-test\"].update({\"_id\": document[\"_id\"]}, {\"$set\": {\"full_text\": full_text, \"truncated\":False}})\n",
    "        except:\n",
    "            db_twitter[\"twitter-test\"].update({\"_id\": document[\"_id\"]}, {\"$set\": {\"full_text\": None, \"truncated\":False}})   \n",
    "            #print(\"--------------\\n\" + \"exception: pass\")\n",
    "            \n",
    "print(\"Done: get full_text of \" + str(limit_number) + \" truncated tweets in twitter-australia collection.\")\n"
   ]
  },
  {
   "cell_type": "markdown",
   "metadata": {},
   "source": [
    "# Get full_text of the truncated tweets in twitter-other collection"
   ]
  },
  {
   "cell_type": "code",
   "execution_count": null,
   "metadata": {},
   "outputs": [],
   "source": [
    "# get the first \"limit_number\" records from \"twitter-other\" collection\n",
    "for document in db_twitter[\"twitter-other\"].find({\"truncated\":True}).limit(limit_number):\n",
    "        try:\n",
    "            # get full_text using twitter api\n",
    "            full_text = api.GetStatus(document[\"id_str\"]).full_text\n",
    "            #print(\"--------------\\n\" + full_text)\n",
    "\n",
    "            # update fields(add full_text if exist and change truncated value to false)\n",
    "            db_twitter[\"twitter-other\"].update({\"_id\": document[\"_id\"]}, {\"$set\": {\"full_text\": full_text, \"truncated\":False}})\n",
    "        except:\n",
    "            db_twitter[\"twitter-other\"].update({\"_id\": document[\"_id\"]}, {\"$set\": {\"full_text\": None, \"truncated\":False}})   \n",
    "            #print(\"--------------\\n\" + \"exception: pass\")\n",
    "            \n",
    "print(\"Done: get full_text of \" + str(limit_number) + \" truncated tweets in twitter-other collection.\")"
   ]
  },
  {
   "cell_type": "code",
   "execution_count": null,
   "metadata": {},
   "outputs": [],
   "source": []
  }
 ],
 "metadata": {
  "kernelspec": {
   "display_name": "Python 3",
   "language": "python",
   "name": "python3"
  },
  "language_info": {
   "codemirror_mode": {
    "name": "ipython",
    "version": 3
   },
   "file_extension": ".py",
   "mimetype": "text/x-python",
   "name": "python",
   "nbconvert_exporter": "python",
   "pygments_lexer": "ipython3",
   "version": "3.6.4"
  }
 },
 "nbformat": 4,
 "nbformat_minor": 2
}
